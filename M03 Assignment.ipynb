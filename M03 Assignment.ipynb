{
 "cells": [
  {
   "cell_type": "code",
   "execution_count": 12,
   "id": "74c444cf",
   "metadata": {},
   "outputs": [
    {
     "data": {
      "text/plain": [
       "33.510321638291124"
      ]
     },
     "execution_count": 12,
     "metadata": {},
     "output_type": "execute_result"
    }
   ],
   "source": [
    "import math\n",
    "def vol(rad):\n",
    "    return (4/3) * (math.pi)* rad **3\n",
    "vol(2)"
   ]
  },
  {
   "cell_type": "code",
   "execution_count": 13,
   "id": "5c6785ac",
   "metadata": {},
   "outputs": [
    {
     "data": {
      "text/plain": [
       "'5 is in range between 2 and 7'"
      ]
     },
     "execution_count": 13,
     "metadata": {},
     "output_type": "execute_result"
    }
   ],
   "source": [
    "def ran_check(num,low,high):\n",
    "    if num>low and num<high:\n",
    "        return f\"{num} is in range between {low} and {high}\"\n",
    "    else:\n",
    "        return f\"{num} is not in range between {low} and {high}\"\n",
    "ran_check(5,2,7)"
   ]
  },
  {
   "cell_type": "code",
   "execution_count": 14,
   "id": "1891e452",
   "metadata": {},
   "outputs": [
    {
     "data": {
      "text/plain": [
       "True"
      ]
     },
     "execution_count": 14,
     "metadata": {},
     "output_type": "execute_result"
    }
   ],
   "source": [
    "def ran_check(num,low,high):\n",
    "    if num>low and num<high:\n",
    "        return True\n",
    "    else:\n",
    "        return False\n",
    "ran_check(5,2,7)"
   ]
  },
  {
   "cell_type": "code",
   "execution_count": 21,
   "id": "82f54126",
   "metadata": {},
   "outputs": [
    {
     "data": {
      "text/plain": [
       "'original string:Hello Mr Rogers, how are you this fine Tuesday \\nNo.of upper Case letters: 4 \\n No. of lower case letter: 33'"
      ]
     },
     "execution_count": 21,
     "metadata": {},
     "output_type": "execute_result"
    }
   ],
   "source": [
    "def up_lows(string):\n",
    "    low_count=0\n",
    "    upper_count=0\n",
    "    for character in string:\n",
    "        if character.islower()==True:\n",
    "            low_count+=1\n",
    "        elif character.isupper():\n",
    "            upper_count+=1\n",
    "    return f\"original string:{string} \\nNo.of upper Case letters: {upper_count} \\n No. of lower case letter: {low_count}\"\n",
    "up_lows(\"Hello Mr Rogers, how are you this fine Tuesday\")"
   ]
  },
  {
   "cell_type": "code",
   "execution_count": 23,
   "id": "b52ab3bf",
   "metadata": {},
   "outputs": [
    {
     "data": {
      "text/plain": [
       "[1, 2, 3, 4, 5]"
      ]
     },
     "execution_count": 23,
     "metadata": {},
     "output_type": "execute_result"
    }
   ],
   "source": [
    "def unique_list(lst):\n",
    "    unique_elements=list(set(lst))\n",
    "    return unique_elements\n",
    "unique_list([1,1,1,1,2,2,3,3,3,3,4,5])"
   ]
  },
  {
   "cell_type": "code",
   "execution_count": 24,
   "id": "ba9ada59",
   "metadata": {},
   "outputs": [
    {
     "data": {
      "text/plain": [
       "-24"
      ]
     },
     "execution_count": 24,
     "metadata": {},
     "output_type": "execute_result"
    }
   ],
   "source": [
    "def multiply(numbers):\n",
    "    product = 1\n",
    "    for num in numbers:\n",
    "        product*=num\n",
    "    return product\n",
    "multiply([1,2,3,-4])"
   ]
  },
  {
   "cell_type": "code",
   "execution_count": 27,
   "id": "52b63668",
   "metadata": {},
   "outputs": [
    {
     "data": {
      "text/plain": [
       "True"
      ]
     },
     "execution_count": 27,
     "metadata": {},
     "output_type": "execute_result"
    }
   ],
   "source": [
    "def palindrome(s):\n",
    "    new_string=s.replace(\" \",\"\")\n",
    "    if new_string==new_string[::-1]:\n",
    "        return True\n",
    "    return False\n",
    "palindrome('nurses run')"
   ]
  },
  {
   "cell_type": "code",
   "execution_count": 35,
   "id": "081abcd2",
   "metadata": {},
   "outputs": [
    {
     "data": {
      "text/plain": [
       "True"
      ]
     },
     "execution_count": 35,
     "metadata": {},
     "output_type": "execute_result"
    }
   ],
   "source": [
    "import string\n",
    "def ispangram(str1,alphabet=string.ascii_lowercase):\n",
    "    str2=set(str1.replace(\" \",\"\").lower())\n",
    "    if len(str2)==len(alphabet):\n",
    "             return True\n",
    "    return False\n",
    "ispangram(\"The qick brown fox jumps over the lazy dog\")\n",
    "    "
   ]
  },
  {
   "cell_type": "code",
   "execution_count": null,
   "id": "a90205ef",
   "metadata": {},
   "outputs": [],
   "source": []
  }
 ],
 "metadata": {
  "kernelspec": {
   "display_name": "Python 3 (ipykernel)",
   "language": "python",
   "name": "python3"
  },
  "language_info": {
   "codemirror_mode": {
    "name": "ipython",
    "version": 3
   },
   "file_extension": ".py",
   "mimetype": "text/x-python",
   "name": "python",
   "nbconvert_exporter": "python",
   "pygments_lexer": "ipython3",
   "version": "3.9.13"
  }
 },
 "nbformat": 4,
 "nbformat_minor": 5
}
