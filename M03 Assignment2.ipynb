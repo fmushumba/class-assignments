{
 "cells": [
  {
   "cell_type": "code",
   "execution_count": 2,
   "id": "4d12d82b",
   "metadata": {},
   "outputs": [
    {
     "name": "stdout",
     "output_type": "stream",
     "text": [
      "1.6\n",
      "9.433981132056603\n"
     ]
    }
   ],
   "source": [
    "import math\n",
    "class Line:\n",
    "    def __init__(self,coor1,coor2):\n",
    "        self.coor1=coor1\n",
    "        self.coor2=coor2\n",
    "        \n",
    "    def distance(self):\n",
    "        distance=math.dist(self.coor1,self.coor2)\n",
    "        return distance\n",
    "\n",
    "    def slope(self):\n",
    "        coor1x=self.coor1[0]\n",
    "        coor1y=self.coor1[1]\n",
    "        coor2x=self.coor2[0]\n",
    "        coor2y=self.coor2[1]\n",
    "        s=(coor2y-coor1y)/(coor2x-coor1x)\n",
    "        return s\n",
    "line1=Line((3,2),(8,10))\n",
    "print(line1.slope())\n",
    "print(line1.distance())"
   ]
  },
  {
   "cell_type": "code",
   "execution_count": 3,
   "id": "db232bf2",
   "metadata": {},
   "outputs": [
    {
     "name": "stdout",
     "output_type": "stream",
     "text": [
      "94.25 56.55\n"
     ]
    }
   ],
   "source": [
    "import math\n",
    "class Cylinder:\n",
    "    def __init__(self, height=1,radius=1):\n",
    "        self.height=height\n",
    "        self.radius=radius\n",
    "    def volume(self):\n",
    "        v=math.pi*self.radius**2*self.height\n",
    "        return round(v,2)\n",
    "    def surface_area(self):\n",
    "        A=(2*math.pi*self.radius*self.height)+(2*math.pi*self.radius**2)\n",
    "        return round(A,2)\n",
    "c=Cylinder(2,3)\n",
    "print(c.surface_area(),c.volume())"
   ]
  },
  {
   "cell_type": "code",
   "execution_count": null,
   "id": "487c7545",
   "metadata": {},
   "outputs": [],
   "source": []
  }
 ],
 "metadata": {
  "kernelspec": {
   "display_name": "Python 3 (ipykernel)",
   "language": "python",
   "name": "python3"
  },
  "language_info": {
   "codemirror_mode": {
    "name": "ipython",
    "version": 3
   },
   "file_extension": ".py",
   "mimetype": "text/x-python",
   "name": "python",
   "nbconvert_exporter": "python",
   "pygments_lexer": "ipython3",
   "version": "3.9.13"
  }
 },
 "nbformat": 4,
 "nbformat_minor": 5
}
